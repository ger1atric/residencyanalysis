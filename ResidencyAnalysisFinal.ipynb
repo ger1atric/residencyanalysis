{
 "cells": [
  {
   "cell_type": "code",
   "execution_count": 33,
   "metadata": {},
   "outputs": [
    {
     "data": {
      "application/vnd.jupyter.widget-view+json": {
       "model_id": "f83fb0f989894135a84f6e4101a9a0cd",
       "version_major": 2,
       "version_minor": 0
      },
      "text/plain": [
       "VBox(children=(VBox(children=(HTML(value='<h3>Residency Quality Metric</h3>'), GridBox(children=(Checkbox(valu…"
      ]
     },
     "metadata": {},
     "output_type": "display_data"
    },
    {
     "data": {
      "application/vnd.plotly.v1+json": {
       "config": {
        "plotlyServerURL": "https://plot.ly"
       },
       "data": [
        {
         "hoverinfo": "skip",
         "line": {
          "color": "lightgray",
          "width": 2
         },
         "mode": "lines",
         "showlegend": false,
         "type": "scatter",
         "x": [
          0,
          -1
         ],
         "xaxis": "x",
         "y": [
          "NYU",
          "NYU"
         ],
         "yaxis": "y"
        },
        {
         "hoverinfo": "skip",
         "line": {
          "color": "lightgray",
          "width": 2
         },
         "mode": "lines",
         "showlegend": false,
         "type": "scatter",
         "x": [
          0,
          -1
         ],
         "xaxis": "x",
         "y": [
          "Hofstra",
          "Hofstra"
         ],
         "yaxis": "y"
        },
        {
         "hoverinfo": "skip",
         "line": {
          "color": "lightgray",
          "width": 2
         },
         "mode": "lines",
         "showlegend": false,
         "type": "scatter",
         "x": [
          0,
          -1
         ],
         "xaxis": "x",
         "y": [
          "Brown",
          "Brown"
         ],
         "yaxis": "y"
        },
        {
         "hoverinfo": "skip",
         "line": {
          "color": "lightgray",
          "width": 2
         },
         "mode": "lines",
         "showlegend": false,
         "type": "scatter",
         "x": [
          0,
          -1
         ],
         "xaxis": "x",
         "y": [
          "Buffalo",
          "Buffalo"
         ],
         "yaxis": "y"
        },
        {
         "hoverinfo": "skip",
         "line": {
          "color": "lightgray",
          "width": 2
         },
         "mode": "lines",
         "showlegend": false,
         "type": "scatter",
         "x": [
          0,
          -1
         ],
         "xaxis": "x",
         "y": [
          "Colorado",
          "Colorado"
         ],
         "yaxis": "y"
        },
        {
         "hoverinfo": "skip",
         "line": {
          "color": "lightgray",
          "width": 2
         },
         "mode": "lines",
         "showlegend": false,
         "type": "scatter",
         "x": [
          0,
          -1
         ],
         "xaxis": "x",
         "y": [
          "UMass",
          "UMass"
         ],
         "yaxis": "y"
        },
        {
         "hoverinfo": "skip",
         "line": {
          "color": "lightgray",
          "width": 2
         },
         "mode": "lines",
         "showlegend": false,
         "type": "scatter",
         "x": [
          0,
          -1
         ],
         "xaxis": "x",
         "y": [
          "University of Hawaii",
          "University of Hawaii"
         ],
         "yaxis": "y"
        },
        {
         "hoverinfo": "skip",
         "line": {
          "color": "lightgray",
          "width": 2
         },
         "mode": "lines",
         "showlegend": false,
         "type": "scatter",
         "x": [
          0,
          -1
         ],
         "xaxis": "x",
         "y": [
          "UCSD",
          "UCSD"
         ],
         "yaxis": "y"
        },
        {
         "hoverinfo": "skip",
         "line": {
          "color": "lightgray",
          "width": 2
         },
         "mode": "lines",
         "showlegend": false,
         "type": "scatter",
         "x": [
          0,
          -1
         ],
         "xaxis": "x",
         "y": [
          "Ohio State",
          "Ohio State"
         ],
         "yaxis": "y"
        },
        {
         "hoverinfo": "skip",
         "line": {
          "color": "lightgray",
          "width": 2
         },
         "mode": "lines",
         "showlegend": false,
         "type": "scatter",
         "x": [
          0,
          -1
         ],
         "xaxis": "x",
         "y": [
          "Columbia",
          "Columbia"
         ],
         "yaxis": "y"
        },
        {
         "hoverinfo": "skip",
         "line": {
          "color": "lightgray",
          "width": 2
         },
         "mode": "lines",
         "showlegend": false,
         "type": "scatter",
         "x": [
          0,
          -1
         ],
         "xaxis": "x",
         "y": [
          "Western Michigan",
          "Western Michigan"
         ],
         "yaxis": "y"
        },
        {
         "hoverinfo": "skip",
         "line": {
          "color": "lightgray",
          "width": 2
         },
         "mode": "lines",
         "showlegend": false,
         "type": "scatter",
         "x": [
          0,
          -1
         ],
         "xaxis": "x",
         "y": [
          "University of Iowa",
          "University of Iowa"
         ],
         "yaxis": "y"
        },
        {
         "hoverinfo": "skip",
         "line": {
          "color": "lightgray",
          "width": 2
         },
         "mode": "lines",
         "showlegend": false,
         "type": "scatter",
         "x": [
          0,
          -1
         ],
         "xaxis": "x",
         "y": [
          "UVA",
          "UVA"
         ],
         "yaxis": "y"
        },
        {
         "hoverinfo": "skip",
         "line": {
          "color": "lightgray",
          "width": 2
         },
         "mode": "lines",
         "showlegend": false,
         "type": "scatter",
         "x": [
          0,
          -1
         ],
         "xaxis": "x",
         "y": [
          "University of Washington",
          "University of Washington"
         ],
         "yaxis": "y"
        },
        {
         "hoverinfo": "skip",
         "line": {
          "color": "lightgray",
          "width": 2
         },
         "mode": "lines",
         "showlegend": false,
         "type": "scatter",
         "x": [
          0,
          -1
         ],
         "xaxis": "x",
         "y": [
          "UChicago",
          "UChicago"
         ],
         "yaxis": "y"
        },
        {
         "hoverinfo": "skip",
         "line": {
          "color": "lightgray",
          "width": 2
         },
         "mode": "lines",
         "showlegend": false,
         "type": "scatter",
         "x": [
          0,
          -1
         ],
         "xaxis": "x",
         "y": [
          "Northwestern",
          "Northwestern"
         ],
         "yaxis": "y"
        },
        {
         "hoverinfo": "skip",
         "line": {
          "color": "lightgray",
          "width": 2
         },
         "mode": "lines",
         "showlegend": false,
         "type": "scatter",
         "x": [
          0,
          -1
         ],
         "xaxis": "x",
         "y": [
          "University of Oklahoma",
          "University of Oklahoma"
         ],
         "yaxis": "y"
        },
        {
         "hoverinfo": "skip",
         "line": {
          "color": "lightgray",
          "width": 2
         },
         "mode": "lines",
         "showlegend": false,
         "type": "scatter",
         "x": [
          0,
          -1
         ],
         "xaxis": "x",
         "y": [
          "Dartmouth",
          "Dartmouth"
         ],
         "yaxis": "y"
        },
        {
         "hoverinfo": "skip",
         "line": {
          "color": "lightgray",
          "width": 2
         },
         "mode": "lines",
         "showlegend": false,
         "type": "scatter",
         "x": [
          0,
          -1
         ],
         "xaxis": "x",
         "y": [
          "VCU",
          "VCU"
         ],
         "yaxis": "y"
        },
        {
         "hoverinfo": "skip",
         "line": {
          "color": "lightgray",
          "width": 2
         },
         "mode": "lines",
         "showlegend": false,
         "type": "scatter",
         "x": [
          0,
          -1
         ],
         "xaxis": "x",
         "y": [
          "University of Florida",
          "University of Florida"
         ],
         "yaxis": "y"
        },
        {
         "hoverinfo": "skip",
         "line": {
          "color": "lightgray",
          "width": 2
         },
         "mode": "lines",
         "showlegend": false,
         "type": "scatter",
         "x": [
          0,
          -1
         ],
         "xaxis": "x",
         "y": [
          "McGovern",
          "McGovern"
         ],
         "yaxis": "y"
        },
        {
         "hoverinfo": "skip",
         "line": {
          "color": "lightgray",
          "width": 2
         },
         "mode": "lines",
         "showlegend": false,
         "type": "scatter",
         "x": [
          0,
          -1
         ],
         "xaxis": "x",
         "y": [
          "Rutgers",
          "Rutgers"
         ],
         "yaxis": "y"
        },
        {
         "hoverinfo": "skip",
         "line": {
          "color": "lightgray",
          "width": 2
         },
         "mode": "lines",
         "showlegend": false,
         "type": "scatter",
         "x": [
          0,
          -1
         ],
         "xaxis": "x",
         "y": [
          "Mayo",
          "Mayo"
         ],
         "yaxis": "y"
        },
        {
         "hoverinfo": "skip",
         "line": {
          "color": "lightgray",
          "width": 2
         },
         "mode": "lines",
         "showlegend": false,
         "type": "scatter",
         "x": [
          0,
          -1
         ],
         "xaxis": "x",
         "y": [
          "Harvard",
          "Harvard"
         ],
         "yaxis": "y"
        },
        {
         "hoverinfo": "skip",
         "line": {
          "color": "lightgray",
          "width": 2
         },
         "mode": "lines",
         "showlegend": false,
         "type": "scatter",
         "x": [
          0,
          -1
         ],
         "xaxis": "x",
         "y": [
          "USF Morsani",
          "USF Morsani"
         ],
         "yaxis": "y"
        },
        {
         "hoverinfo": "skip",
         "line": {
          "color": "lightgray",
          "width": 2
         },
         "mode": "lines",
         "showlegend": false,
         "type": "scatter",
         "x": [
          0,
          -1
         ],
         "xaxis": "x",
         "y": [
          "Stanford",
          "Stanford"
         ],
         "yaxis": "y"
        },
        {
         "hoverinfo": "skip",
         "line": {
          "color": "lightgray",
          "width": 2
         },
         "mode": "lines",
         "showlegend": false,
         "type": "scatter",
         "x": [
          0,
          -1
         ],
         "xaxis": "x",
         "y": [
          "WashU",
          "WashU"
         ],
         "yaxis": "y"
        },
        {
         "hoverinfo": "skip",
         "line": {
          "color": "lightgray",
          "width": 2
         },
         "mode": "lines",
         "showlegend": false,
         "type": "scatter",
         "x": [
          0,
          -1
         ],
         "xaxis": "x",
         "y": [
          "Carle Illinois",
          "Carle Illinois"
         ],
         "yaxis": "y"
        },
        {
         "hoverinfo": "skip",
         "line": {
          "color": "lightgray",
          "width": 2
         },
         "mode": "lines",
         "showlegend": false,
         "type": "scatter",
         "x": [
          0,
          -1
         ],
         "xaxis": "x",
         "y": [
          "UPenn",
          "UPenn"
         ],
         "yaxis": "y"
        },
        {
         "hoverinfo": "skip",
         "line": {
          "color": "lightgray",
          "width": 2
         },
         "mode": "lines",
         "showlegend": false,
         "type": "scatter",
         "x": [
          0,
          -1
         ],
         "xaxis": "x",
         "y": [
          "Yale",
          "Yale"
         ],
         "yaxis": "y"
        },
        {
         "hoverinfo": "skip",
         "line": {
          "color": "lightgray",
          "width": 2
         },
         "mode": "lines",
         "showlegend": false,
         "type": "scatter",
         "x": [
          0,
          -1
         ],
         "xaxis": "x",
         "y": [
          "UCDavis",
          "UCDavis"
         ],
         "yaxis": "y"
        },
        {
         "hoverinfo": "skip",
         "line": {
          "color": "lightgray",
          "width": 2
         },
         "mode": "lines",
         "showlegend": false,
         "type": "scatter",
         "x": [
          0,
          -1
         ],
         "xaxis": "x",
         "y": [
          "University of Minnesota",
          "University of Minnesota"
         ],
         "yaxis": "y"
        },
        {
         "hoverinfo": "skip",
         "line": {
          "color": "lightgray",
          "width": 2
         },
         "mode": "lines",
         "showlegend": false,
         "type": "scatter",
         "x": [
          0,
          -1
         ],
         "xaxis": "x",
         "y": [
          "Cornell",
          "Cornell"
         ],
         "yaxis": "y"
        },
        {
         "hoverinfo": "skip",
         "line": {
          "color": "lightgray",
          "width": 2
         },
         "mode": "lines",
         "showlegend": false,
         "type": "scatter",
         "x": [
          0,
          -1
         ],
         "xaxis": "x",
         "y": [
          "Hopkins",
          "Hopkins"
         ],
         "yaxis": "y"
        },
        {
         "hoverinfo": "skip",
         "line": {
          "color": "lightgray",
          "width": 2
         },
         "mode": "lines",
         "showlegend": false,
         "type": "scatter",
         "x": [
          0,
          -1
         ],
         "xaxis": "x",
         "y": [
          "University of Miami",
          "University of Miami"
         ],
         "yaxis": "y"
        },
        {
         "hoverinfo": "skip",
         "line": {
          "color": "lightgray",
          "width": 2
         },
         "mode": "lines",
         "showlegend": false,
         "type": "scatter",
         "x": [
          0,
          -1
         ],
         "xaxis": "x",
         "y": [
          "Vanderbilt",
          "Vanderbilt"
         ],
         "yaxis": "y"
        },
        {
         "hoverinfo": "skip",
         "line": {
          "color": "lightgray",
          "width": 2
         },
         "mode": "lines",
         "showlegend": false,
         "type": "scatter",
         "x": [
          0,
          -1
         ],
         "xaxis": "x",
         "y": [
          "Baylor",
          "Baylor"
         ],
         "yaxis": "y"
        },
        {
         "hoverinfo": "skip",
         "line": {
          "color": "lightgray",
          "width": 2
         },
         "mode": "lines",
         "showlegend": false,
         "type": "scatter",
         "x": [
          0,
          -1
         ],
         "xaxis": "x",
         "y": [
          "UTSW",
          "UTSW"
         ],
         "yaxis": "y"
        },
        {
         "hoverinfo": "skip",
         "line": {
          "color": "lightgray",
          "width": 2
         },
         "mode": "lines",
         "showlegend": false,
         "type": "scatter",
         "x": [
          0,
          -1
         ],
         "xaxis": "x",
         "y": [
          "UCLA",
          "UCLA"
         ],
         "yaxis": "y"
        },
        {
         "hoverinfo": "skip",
         "line": {
          "color": "lightgray",
          "width": 2
         },
         "mode": "lines",
         "showlegend": false,
         "type": "scatter",
         "x": [
          0,
          -1
         ],
         "xaxis": "x",
         "y": [
          "Duke",
          "Duke"
         ],
         "yaxis": "y"
        },
        {
         "hoverinfo": "skip",
         "line": {
          "color": "lightgray",
          "width": 2
         },
         "mode": "lines",
         "showlegend": false,
         "type": "scatter",
         "x": [
          0,
          -1
         ],
         "xaxis": "x",
         "y": [
          "Emory",
          "Emory"
         ],
         "yaxis": "y"
        },
        {
         "hoverinfo": "skip",
         "line": {
          "color": "lightgray",
          "width": 2
         },
         "mode": "lines",
         "showlegend": false,
         "type": "scatter",
         "x": [
          0,
          -1
         ],
         "xaxis": "x",
         "y": [
          "UIC",
          "UIC"
         ],
         "yaxis": "y"
        },
        {
         "hoverinfo": "skip",
         "line": {
          "color": "lightgray",
          "width": 2
         },
         "mode": "lines",
         "showlegend": false,
         "type": "scatter",
         "x": [
          0,
          -1
         ],
         "xaxis": "x",
         "y": [
          "University of Utah",
          "University of Utah"
         ],
         "yaxis": "y"
        },
        {
         "hoverinfo": "skip",
         "line": {
          "color": "lightgray",
          "width": 2
         },
         "mode": "lines",
         "showlegend": false,
         "type": "scatter",
         "x": [
          0,
          -1
         ],
         "xaxis": "x",
         "y": [
          "University of Alabama",
          "University of Alabama"
         ],
         "yaxis": "y"
        },
        {
         "hoverinfo": "skip",
         "line": {
          "color": "lightgray",
          "width": 2
         },
         "mode": "lines",
         "showlegend": false,
         "type": "scatter",
         "x": [
          0,
          -1
         ],
         "xaxis": "x",
         "y": [
          "Pitt",
          "Pitt"
         ],
         "yaxis": "y"
        },
        {
         "hoverinfo": "skip",
         "line": {
          "color": "lightgray",
          "width": 2
         },
         "mode": "lines",
         "showlegend": false,
         "type": "scatter",
         "x": [
          0,
          -1
         ],
         "xaxis": "x",
         "y": [
          "UMich",
          "UMich"
         ],
         "yaxis": "y"
        },
        {
         "hoverinfo": "skip",
         "line": {
          "color": "lightgray",
          "width": 2
         },
         "mode": "lines",
         "showlegend": false,
         "type": "scatter",
         "x": [
          0,
          -1
         ],
         "xaxis": "x",
         "y": [
          "Case Western",
          "Case Western"
         ],
         "yaxis": "y"
        },
        {
         "hoverinfo": "skip",
         "line": {
          "color": "lightgray",
          "width": 2
         },
         "mode": "lines",
         "showlegend": false,
         "type": "scatter",
         "x": [
          0,
          -1
         ],
         "xaxis": "x",
         "y": [
          "UNC",
          "UNC"
         ],
         "yaxis": "y"
        },
        {
         "hoverinfo": "skip",
         "line": {
          "color": "lightgray",
          "width": 2
         },
         "mode": "lines",
         "showlegend": false,
         "type": "scatter",
         "x": [
          0,
          -1
         ],
         "xaxis": "x",
         "y": [
          "Jefferson Kimmel",
          "Jefferson Kimmel"
         ],
         "yaxis": "y"
        },
        {
         "hoverinfo": "skip",
         "line": {
          "color": "lightgray",
          "width": 2
         },
         "mode": "lines",
         "showlegend": false,
         "type": "scatter",
         "x": [
          0,
          -1
         ],
         "xaxis": "x",
         "y": [
          "USC",
          "USC"
         ],
         "yaxis": "y"
        },
        {
         "hoverinfo": "skip",
         "line": {
          "color": "lightgray",
          "width": 2
         },
         "mode": "lines",
         "showlegend": false,
         "type": "scatter",
         "x": [
          0,
          -1
         ],
         "xaxis": "x",
         "y": [
          "Einstein",
          "Einstein"
         ],
         "yaxis": "y"
        },
        {
         "marker": {
          "color": [
           "gray",
           "gray",
           "gray",
           "gray",
           "gray",
           "gray",
           "gray",
           "gray",
           "gray",
           "gray",
           "gray",
           "gray",
           "gray",
           "gray",
           "gray",
           "gray",
           "gray",
           "gray",
           "gray",
           "gray",
           "gray",
           "gray",
           "gray",
           "gray",
           "gray",
           "gray",
           "gray",
           "gray",
           "gray",
           "gray",
           "gray",
           "gray",
           "gray",
           "gray",
           "gray",
           "gray",
           "gray",
           "gray",
           "gray",
           "gray",
           "gray",
           "gray",
           "gray",
           "gray",
           "gray",
           "gray",
           "gray",
           "gray",
           "gray",
           "gray",
           "gray"
          ],
          "size": [
           8,
           8,
           8,
           8,
           8,
           8,
           8,
           8,
           8,
           8,
           8,
           8,
           8,
           8,
           8,
           8,
           8,
           8,
           8,
           8,
           8,
           8,
           8,
           8,
           8,
           8,
           8,
           8,
           8,
           8,
           8,
           8,
           8,
           8,
           8,
           8,
           8,
           8,
           8,
           8,
           8,
           8,
           8,
           8,
           8,
           8,
           8,
           8,
           8,
           8,
           8
          ]
         },
         "mode": "markers+text",
         "name": "Final Score",
         "text": [
          "-1.00",
          "-1.00",
          "-1.00",
          "-1.00",
          "-1.00",
          "-1.00",
          "-1.00",
          "-1.00",
          "-1.00",
          "-1.00",
          "-1.00",
          "-1.00",
          "-1.00",
          "-1.00",
          "-1.00",
          "-1.00",
          "-1.00",
          "-1.00",
          "-1.00",
          "-1.00",
          "-1.00",
          "-1.00",
          "-1.00",
          "-1.00",
          "-1.00",
          "-1.00",
          "-1.00",
          "-1.00",
          "-1.00",
          "-1.00",
          "-1.00",
          "-1.00",
          "-1.00",
          "-1.00",
          "-1.00",
          "-1.00",
          "-1.00",
          "-1.00",
          "-1.00",
          "-1.00",
          "-1.00",
          "-1.00",
          "-1.00",
          "-1.00",
          "-1.00",
          "-1.00",
          "-1.00",
          "-1.00",
          "-1.00",
          "-1.00",
          "-1.00"
         ],
         "textposition": "middle right",
         "type": "scatter",
         "x": [
          -1,
          -1,
          -1,
          -1,
          -1,
          -1,
          -1,
          -1,
          -1,
          -1,
          -1,
          -1,
          -1,
          -1,
          -1,
          -1,
          -1,
          -1,
          -1,
          -1,
          -1,
          -1,
          -1,
          -1,
          -1,
          -1,
          -1,
          -1,
          -1,
          -1,
          -1,
          -1,
          -1,
          -1,
          -1,
          -1,
          -1,
          -1,
          -1,
          -1,
          -1,
          -1,
          -1,
          -1,
          -1,
          -1,
          -1,
          -1,
          -1,
          -1,
          -1
         ],
         "xaxis": "x",
         "y": [
          "NYU",
          "Hofstra",
          "Brown",
          "Buffalo",
          "Colorado",
          "UMass",
          "University of Hawaii",
          "UCSD",
          "Ohio State",
          "Columbia",
          "Western Michigan",
          "University of Iowa",
          "UVA",
          "University of Washington",
          "UChicago",
          "Northwestern",
          "University of Oklahoma",
          "Dartmouth",
          "VCU",
          "University of Florida",
          "McGovern",
          "Rutgers",
          "Mayo",
          "Harvard",
          "USF Morsani",
          "Stanford",
          "WashU",
          "Carle Illinois",
          "UPenn",
          "Yale",
          "UCDavis",
          "University of Minnesota",
          "Cornell",
          "Hopkins",
          "University of Miami",
          "Vanderbilt",
          "Baylor",
          "UTSW",
          "UCLA",
          "Duke",
          "Emory",
          "UIC",
          "University of Utah",
          "University of Alabama",
          "Pitt",
          "UMich",
          "Case Western",
          "UNC",
          "Jefferson Kimmel",
          "USC",
          "Einstein"
         ],
         "yaxis": "y"
        },
        {
         "colorbar": {
          "title": {
           "text": "Region Weight"
          }
         },
         "colorscale": [
          [
           0,
           "rgb(247,252,245)"
          ],
          [
           0.125,
           "rgb(229,245,224)"
          ],
          [
           0.25,
           "rgb(199,233,192)"
          ],
          [
           0.375,
           "rgb(161,217,155)"
          ],
          [
           0.5,
           "rgb(116,196,118)"
          ],
          [
           0.625,
           "rgb(65,171,93)"
          ],
          [
           0.75,
           "rgb(35,139,69)"
          ],
          [
           0.875,
           "rgb(0,109,44)"
          ],
          [
           1,
           "rgb(0,68,27)"
          ]
         ],
         "geo": "geo",
         "locationmode": "USA-states",
         "locations": [
          "CT",
          "ME",
          "MA",
          "NH",
          "RI",
          "VT",
          "NJ",
          "NY",
          "PA",
          "DE",
          "DC",
          "MD",
          "VA",
          "WV",
          "NC",
          "SC",
          "GA",
          "FL",
          "IN",
          "IL",
          "MI",
          "OH",
          "WI",
          "KY",
          "TN",
          "MS",
          "AL",
          "ND",
          "SD",
          "NE",
          "KS",
          "MN",
          "IA",
          "MO",
          "OK",
          "TX",
          "AR",
          "LA",
          "ID",
          "MT",
          "WY",
          "NV",
          "UT",
          "CO",
          "NM",
          "AZ",
          "AK",
          "CA",
          "HI",
          "OR",
          "WA"
         ],
         "type": "choropleth",
         "z": [
          0.1111111111111111,
          0.1111111111111111,
          0.1111111111111111,
          0.1111111111111111,
          0.1111111111111111,
          0.1111111111111111,
          0.1111111111111111,
          0.1111111111111111,
          0.1111111111111111,
          0.1111111111111111,
          0.1111111111111111,
          0.1111111111111111,
          0.1111111111111111,
          0.1111111111111111,
          0.1111111111111111,
          0.1111111111111111,
          0.1111111111111111,
          0.1111111111111111,
          0.1111111111111111,
          0.1111111111111111,
          0.1111111111111111,
          0.1111111111111111,
          0.1111111111111111,
          0.1111111111111111,
          0.1111111111111111,
          0.1111111111111111,
          0.1111111111111111,
          0.1111111111111111,
          0.1111111111111111,
          0.1111111111111111,
          0.1111111111111111,
          0.1111111111111111,
          0.1111111111111111,
          0.1111111111111111,
          0.1111111111111111,
          0.1111111111111111,
          0.1111111111111111,
          0.1111111111111111,
          0.1111111111111111,
          0.1111111111111111,
          0.1111111111111111,
          0.1111111111111111,
          0.1111111111111111,
          0.1111111111111111,
          0.1111111111111111,
          0.1111111111111111,
          0.1111111111111111,
          0.1111111111111111,
          0.1111111111111111,
          0.1111111111111111,
          0.1111111111111111
         ],
         "zmax": 1,
         "zmin": 0
        }
       ],
       "layout": {
        "annotations": [
         {
          "font": {
           "size": 16
          },
          "showarrow": false,
          "text": "School Composite Scores",
          "x": 0.225,
          "xanchor": "center",
          "xref": "paper",
          "y": 1,
          "yanchor": "bottom",
          "yref": "paper"
         },
         {
          "font": {
           "size": 16
          },
          "showarrow": false,
          "text": "US Geographic Preference",
          "x": 0.775,
          "xanchor": "center",
          "xref": "paper",
          "y": 1,
          "yanchor": "bottom",
          "yref": "paper"
         }
        ],
        "geo": {
         "domain": {
          "x": [
           0.55,
           1
          ],
          "y": [
           0,
           1
          ]
         },
         "projection": {
          "type": "albers usa"
         },
         "scope": "usa"
        },
        "height": 1200,
        "template": {
         "data": {
          "bar": [
           {
            "error_x": {
             "color": "#2a3f5f"
            },
            "error_y": {
             "color": "#2a3f5f"
            },
            "marker": {
             "line": {
              "color": "white",
              "width": 0.5
             },
             "pattern": {
              "fillmode": "overlay",
              "size": 10,
              "solidity": 0.2
             }
            },
            "type": "bar"
           }
          ],
          "barpolar": [
           {
            "marker": {
             "line": {
              "color": "white",
              "width": 0.5
             },
             "pattern": {
              "fillmode": "overlay",
              "size": 10,
              "solidity": 0.2
             }
            },
            "type": "barpolar"
           }
          ],
          "carpet": [
           {
            "aaxis": {
             "endlinecolor": "#2a3f5f",
             "gridcolor": "#C8D4E3",
             "linecolor": "#C8D4E3",
             "minorgridcolor": "#C8D4E3",
             "startlinecolor": "#2a3f5f"
            },
            "baxis": {
             "endlinecolor": "#2a3f5f",
             "gridcolor": "#C8D4E3",
             "linecolor": "#C8D4E3",
             "minorgridcolor": "#C8D4E3",
             "startlinecolor": "#2a3f5f"
            },
            "type": "carpet"
           }
          ],
          "choropleth": [
           {
            "colorbar": {
             "outlinewidth": 0,
             "ticks": ""
            },
            "type": "choropleth"
           }
          ],
          "contour": [
           {
            "colorbar": {
             "outlinewidth": 0,
             "ticks": ""
            },
            "colorscale": [
             [
              0,
              "#0d0887"
             ],
             [
              0.1111111111111111,
              "#46039f"
             ],
             [
              0.2222222222222222,
              "#7201a8"
             ],
             [
              0.3333333333333333,
              "#9c179e"
             ],
             [
              0.4444444444444444,
              "#bd3786"
             ],
             [
              0.5555555555555556,
              "#d8576b"
             ],
             [
              0.6666666666666666,
              "#ed7953"
             ],
             [
              0.7777777777777778,
              "#fb9f3a"
             ],
             [
              0.8888888888888888,
              "#fdca26"
             ],
             [
              1,
              "#f0f921"
             ]
            ],
            "type": "contour"
           }
          ],
          "contourcarpet": [
           {
            "colorbar": {
             "outlinewidth": 0,
             "ticks": ""
            },
            "type": "contourcarpet"
           }
          ],
          "heatmap": [
           {
            "colorbar": {
             "outlinewidth": 0,
             "ticks": ""
            },
            "colorscale": [
             [
              0,
              "#0d0887"
             ],
             [
              0.1111111111111111,
              "#46039f"
             ],
             [
              0.2222222222222222,
              "#7201a8"
             ],
             [
              0.3333333333333333,
              "#9c179e"
             ],
             [
              0.4444444444444444,
              "#bd3786"
             ],
             [
              0.5555555555555556,
              "#d8576b"
             ],
             [
              0.6666666666666666,
              "#ed7953"
             ],
             [
              0.7777777777777778,
              "#fb9f3a"
             ],
             [
              0.8888888888888888,
              "#fdca26"
             ],
             [
              1,
              "#f0f921"
             ]
            ],
            "type": "heatmap"
           }
          ],
          "heatmapgl": [
           {
            "colorbar": {
             "outlinewidth": 0,
             "ticks": ""
            },
            "colorscale": [
             [
              0,
              "#0d0887"
             ],
             [
              0.1111111111111111,
              "#46039f"
             ],
             [
              0.2222222222222222,
              "#7201a8"
             ],
             [
              0.3333333333333333,
              "#9c179e"
             ],
             [
              0.4444444444444444,
              "#bd3786"
             ],
             [
              0.5555555555555556,
              "#d8576b"
             ],
             [
              0.6666666666666666,
              "#ed7953"
             ],
             [
              0.7777777777777778,
              "#fb9f3a"
             ],
             [
              0.8888888888888888,
              "#fdca26"
             ],
             [
              1,
              "#f0f921"
             ]
            ],
            "type": "heatmapgl"
           }
          ],
          "histogram": [
           {
            "marker": {
             "pattern": {
              "fillmode": "overlay",
              "size": 10,
              "solidity": 0.2
             }
            },
            "type": "histogram"
           }
          ],
          "histogram2d": [
           {
            "colorbar": {
             "outlinewidth": 0,
             "ticks": ""
            },
            "colorscale": [
             [
              0,
              "#0d0887"
             ],
             [
              0.1111111111111111,
              "#46039f"
             ],
             [
              0.2222222222222222,
              "#7201a8"
             ],
             [
              0.3333333333333333,
              "#9c179e"
             ],
             [
              0.4444444444444444,
              "#bd3786"
             ],
             [
              0.5555555555555556,
              "#d8576b"
             ],
             [
              0.6666666666666666,
              "#ed7953"
             ],
             [
              0.7777777777777778,
              "#fb9f3a"
             ],
             [
              0.8888888888888888,
              "#fdca26"
             ],
             [
              1,
              "#f0f921"
             ]
            ],
            "type": "histogram2d"
           }
          ],
          "histogram2dcontour": [
           {
            "colorbar": {
             "outlinewidth": 0,
             "ticks": ""
            },
            "colorscale": [
             [
              0,
              "#0d0887"
             ],
             [
              0.1111111111111111,
              "#46039f"
             ],
             [
              0.2222222222222222,
              "#7201a8"
             ],
             [
              0.3333333333333333,
              "#9c179e"
             ],
             [
              0.4444444444444444,
              "#bd3786"
             ],
             [
              0.5555555555555556,
              "#d8576b"
             ],
             [
              0.6666666666666666,
              "#ed7953"
             ],
             [
              0.7777777777777778,
              "#fb9f3a"
             ],
             [
              0.8888888888888888,
              "#fdca26"
             ],
             [
              1,
              "#f0f921"
             ]
            ],
            "type": "histogram2dcontour"
           }
          ],
          "mesh3d": [
           {
            "colorbar": {
             "outlinewidth": 0,
             "ticks": ""
            },
            "type": "mesh3d"
           }
          ],
          "parcoords": [
           {
            "line": {
             "colorbar": {
              "outlinewidth": 0,
              "ticks": ""
             }
            },
            "type": "parcoords"
           }
          ],
          "pie": [
           {
            "automargin": true,
            "type": "pie"
           }
          ],
          "scatter": [
           {
            "fillpattern": {
             "fillmode": "overlay",
             "size": 10,
             "solidity": 0.2
            },
            "type": "scatter"
           }
          ],
          "scatter3d": [
           {
            "line": {
             "colorbar": {
              "outlinewidth": 0,
              "ticks": ""
             }
            },
            "marker": {
             "colorbar": {
              "outlinewidth": 0,
              "ticks": ""
             }
            },
            "type": "scatter3d"
           }
          ],
          "scattercarpet": [
           {
            "marker": {
             "colorbar": {
              "outlinewidth": 0,
              "ticks": ""
             }
            },
            "type": "scattercarpet"
           }
          ],
          "scattergeo": [
           {
            "marker": {
             "colorbar": {
              "outlinewidth": 0,
              "ticks": ""
             }
            },
            "type": "scattergeo"
           }
          ],
          "scattergl": [
           {
            "marker": {
             "colorbar": {
              "outlinewidth": 0,
              "ticks": ""
             }
            },
            "type": "scattergl"
           }
          ],
          "scattermapbox": [
           {
            "marker": {
             "colorbar": {
              "outlinewidth": 0,
              "ticks": ""
             }
            },
            "type": "scattermapbox"
           }
          ],
          "scatterpolar": [
           {
            "marker": {
             "colorbar": {
              "outlinewidth": 0,
              "ticks": ""
             }
            },
            "type": "scatterpolar"
           }
          ],
          "scatterpolargl": [
           {
            "marker": {
             "colorbar": {
              "outlinewidth": 0,
              "ticks": ""
             }
            },
            "type": "scatterpolargl"
           }
          ],
          "scatterternary": [
           {
            "marker": {
             "colorbar": {
              "outlinewidth": 0,
              "ticks": ""
             }
            },
            "type": "scatterternary"
           }
          ],
          "surface": [
           {
            "colorbar": {
             "outlinewidth": 0,
             "ticks": ""
            },
            "colorscale": [
             [
              0,
              "#0d0887"
             ],
             [
              0.1111111111111111,
              "#46039f"
             ],
             [
              0.2222222222222222,
              "#7201a8"
             ],
             [
              0.3333333333333333,
              "#9c179e"
             ],
             [
              0.4444444444444444,
              "#bd3786"
             ],
             [
              0.5555555555555556,
              "#d8576b"
             ],
             [
              0.6666666666666666,
              "#ed7953"
             ],
             [
              0.7777777777777778,
              "#fb9f3a"
             ],
             [
              0.8888888888888888,
              "#fdca26"
             ],
             [
              1,
              "#f0f921"
             ]
            ],
            "type": "surface"
           }
          ],
          "table": [
           {
            "cells": {
             "fill": {
              "color": "#EBF0F8"
             },
             "line": {
              "color": "white"
             }
            },
            "header": {
             "fill": {
              "color": "#C8D4E3"
             },
             "line": {
              "color": "white"
             }
            },
            "type": "table"
           }
          ]
         },
         "layout": {
          "annotationdefaults": {
           "arrowcolor": "#2a3f5f",
           "arrowhead": 0,
           "arrowwidth": 1
          },
          "autotypenumbers": "strict",
          "coloraxis": {
           "colorbar": {
            "outlinewidth": 0,
            "ticks": ""
           }
          },
          "colorscale": {
           "diverging": [
            [
             0,
             "#8e0152"
            ],
            [
             0.1,
             "#c51b7d"
            ],
            [
             0.2,
             "#de77ae"
            ],
            [
             0.3,
             "#f1b6da"
            ],
            [
             0.4,
             "#fde0ef"
            ],
            [
             0.5,
             "#f7f7f7"
            ],
            [
             0.6,
             "#e6f5d0"
            ],
            [
             0.7,
             "#b8e186"
            ],
            [
             0.8,
             "#7fbc41"
            ],
            [
             0.9,
             "#4d9221"
            ],
            [
             1,
             "#276419"
            ]
           ],
           "sequential": [
            [
             0,
             "#0d0887"
            ],
            [
             0.1111111111111111,
             "#46039f"
            ],
            [
             0.2222222222222222,
             "#7201a8"
            ],
            [
             0.3333333333333333,
             "#9c179e"
            ],
            [
             0.4444444444444444,
             "#bd3786"
            ],
            [
             0.5555555555555556,
             "#d8576b"
            ],
            [
             0.6666666666666666,
             "#ed7953"
            ],
            [
             0.7777777777777778,
             "#fb9f3a"
            ],
            [
             0.8888888888888888,
             "#fdca26"
            ],
            [
             1,
             "#f0f921"
            ]
           ],
           "sequentialminus": [
            [
             0,
             "#0d0887"
            ],
            [
             0.1111111111111111,
             "#46039f"
            ],
            [
             0.2222222222222222,
             "#7201a8"
            ],
            [
             0.3333333333333333,
             "#9c179e"
            ],
            [
             0.4444444444444444,
             "#bd3786"
            ],
            [
             0.5555555555555556,
             "#d8576b"
            ],
            [
             0.6666666666666666,
             "#ed7953"
            ],
            [
             0.7777777777777778,
             "#fb9f3a"
            ],
            [
             0.8888888888888888,
             "#fdca26"
            ],
            [
             1,
             "#f0f921"
            ]
           ]
          },
          "colorway": [
           "#636efa",
           "#EF553B",
           "#00cc96",
           "#ab63fa",
           "#FFA15A",
           "#19d3f3",
           "#FF6692",
           "#B6E880",
           "#FF97FF",
           "#FECB52"
          ],
          "font": {
           "color": "#2a3f5f"
          },
          "geo": {
           "bgcolor": "white",
           "lakecolor": "white",
           "landcolor": "white",
           "showlakes": true,
           "showland": true,
           "subunitcolor": "#C8D4E3"
          },
          "hoverlabel": {
           "align": "left"
          },
          "hovermode": "closest",
          "mapbox": {
           "style": "light"
          },
          "paper_bgcolor": "white",
          "plot_bgcolor": "white",
          "polar": {
           "angularaxis": {
            "gridcolor": "#EBF0F8",
            "linecolor": "#EBF0F8",
            "ticks": ""
           },
           "bgcolor": "white",
           "radialaxis": {
            "gridcolor": "#EBF0F8",
            "linecolor": "#EBF0F8",
            "ticks": ""
           }
          },
          "scene": {
           "xaxis": {
            "backgroundcolor": "white",
            "gridcolor": "#DFE8F3",
            "gridwidth": 2,
            "linecolor": "#EBF0F8",
            "showbackground": true,
            "ticks": "",
            "zerolinecolor": "#EBF0F8"
           },
           "yaxis": {
            "backgroundcolor": "white",
            "gridcolor": "#DFE8F3",
            "gridwidth": 2,
            "linecolor": "#EBF0F8",
            "showbackground": true,
            "ticks": "",
            "zerolinecolor": "#EBF0F8"
           },
           "zaxis": {
            "backgroundcolor": "white",
            "gridcolor": "#DFE8F3",
            "gridwidth": 2,
            "linecolor": "#EBF0F8",
            "showbackground": true,
            "ticks": "",
            "zerolinecolor": "#EBF0F8"
           }
          },
          "shapedefaults": {
           "line": {
            "color": "#2a3f5f"
           }
          },
          "ternary": {
           "aaxis": {
            "gridcolor": "#DFE8F3",
            "linecolor": "#A2B1C6",
            "ticks": ""
           },
           "baxis": {
            "gridcolor": "#DFE8F3",
            "linecolor": "#A2B1C6",
            "ticks": ""
           },
           "bgcolor": "white",
           "caxis": {
            "gridcolor": "#DFE8F3",
            "linecolor": "#A2B1C6",
            "ticks": ""
           }
          },
          "title": {
           "x": 0.05
          },
          "xaxis": {
           "automargin": true,
           "gridcolor": "#EBF0F8",
           "linecolor": "#EBF0F8",
           "ticks": "",
           "title": {
            "standoff": 15
           },
           "zerolinecolor": "#EBF0F8",
           "zerolinewidth": 2
          },
          "yaxis": {
           "automargin": true,
           "gridcolor": "#EBF0F8",
           "linecolor": "#EBF0F8",
           "ticks": "",
           "title": {
            "standoff": 15
           },
           "zerolinecolor": "#EBF0F8",
           "zerolinewidth": 2
          }
         }
        },
        "title": {
         "text": "Composite Scores and Geographic Preferences"
        },
        "width": 1500,
        "xaxis": {
         "anchor": "y",
         "domain": [
          0,
          0.45
         ],
         "title": {
          "text": "Final Score (0-10)"
         }
        },
        "yaxis": {
         "anchor": "x",
         "domain": [
          0,
          1
         ],
         "tickfont": {
          "size": 10
         },
         "title": {
          "text": "School"
         }
        }
       }
      }
     },
     "metadata": {},
     "output_type": "display_data"
    }
   ],
   "source": [
    "import glob\n",
    "import os\n",
    "import pandas as pd\n",
    "import numpy as np\n",
    "from scipy import stats\n",
    "import plotly.graph_objects as go\n",
    "from plotly.subplots import make_subplots\n",
    "import plotly.express as px\n",
    "import ipywidgets as widgets\n",
    "from IPython.display import display, clear_output\n",
    "\n",
    "# ========================================================\n",
    "# 1. Data Preparation\n",
    "# ========================================================\n",
    "\n",
    "folder_path = '/Users/jerryshen/Documents/Medical School Application Prep/Residency Analysis'\n",
    "\n",
    "# Load the uscities.csv file\n",
    "uscities_file = os.path.join(folder_path, \"uscities.csv\")\n",
    "uscities_df = pd.read_csv(uscities_file)\n",
    "\n",
    "# Clean the city and state columns\n",
    "uscities_df['city'] = uscities_df['city'].str.strip()\n",
    "uscities_df['state_id'] = uscities_df['state_id'].str.strip()\n",
    "\n",
    "# Find all CSV files that match the pattern \"*_match_list.csv\"\n",
    "csv_files = glob.glob(os.path.join(folder_path, \"*_match_list.csv\"))\n",
    "\n",
    "# List to store DataFrames from each match list file\n",
    "schoolData = []\n",
    "for file in csv_files:\n",
    "    df = pd.read_csv(file, encoding='latin1')\n",
    "    df['Rank'] = df['Rank'].str.lstrip('#')\n",
    "    df['Rank'] = pd.to_numeric(df['Rank'], errors='coerce')\n",
    "    df['SourceFile'] = os.path.basename(file)\n",
    "    # Split the Location column (e.g., \"Boston, MA\") into separate city and state_id columns\n",
    "    df[['city', 'state_id']] = df['Location'].str.split(',', expand=True)\n",
    "    df['city'] = df['city'].str.strip()\n",
    "    df['state_id'] = df['state_id'].str.strip()\n",
    "    \n",
    "    # Merge with uscities_df to add lat, lng, population, and density columns\n",
    "    df = pd.merge(\n",
    "        df,\n",
    "        uscities_df[['city', 'state_id', 'lat', 'lng', 'population', 'density']],\n",
    "        on=['city', 'state_id'],\n",
    "        how='left'\n",
    "    )\n",
    "    \n",
    "    schoolData.append(df)\n",
    "\n",
    "# Combine all DataFrames into one\n",
    "combined_df = pd.concat(schoolData, ignore_index=True)\n",
    "\n",
    "# Create a School column from SourceFile\n",
    "combined_df['School'] = combined_df['SourceFile'].apply(lambda x: x.split('_')[0])\n",
    "\n",
    "# Define a function to assign geographic region\n",
    "def assign_region(state):\n",
    "    if state in ['ME','NH','VT','MA','CT','RI']:\n",
    "        return 'New England'\n",
    "    elif state in ['NJ', 'NY', 'PA']:\n",
    "        return 'Middle Atlantic'\n",
    "    elif state in ['MD', 'DE', 'DC','WV', 'VA','NC','SC','GA','FL']:\n",
    "        return 'South Atlantic'\n",
    "    elif state in ['KY','TN','MS','AL']:\n",
    "        return 'East South Central'\n",
    "    elif state in ['WI', 'MI', 'IL', 'IN', 'OH']:\n",
    "        return 'East North Central'\n",
    "    elif state in ['ND', 'SD', 'NE', 'KS', 'MN', 'IA','MO']:\n",
    "        return 'West North Central'\n",
    "    elif state in ['TX', 'OK', 'AR', 'LA']:\n",
    "        return 'West South Central'\n",
    "    elif state in ['MT', 'WY', 'ID', 'UT', 'CO', 'NV','NM','AZ']:\n",
    "        return 'Mountain West'\n",
    "    elif state in ['WA', 'OR', 'CA', 'AK', 'HI']:\n",
    "        return 'Pacific West'\n",
    "    else:\n",
    "        return np.nan\n",
    "\n",
    "# Create geographic US location column\n",
    "combined_df['geographic US location'] = combined_df['state_id'].apply(assign_region)\n",
    "\n",
    "# Compute regional proportions for each school.\n",
    "region_counts = combined_df.groupby(['School', 'geographic US location']).size().reset_index(name='count')\n",
    "region_pivot = region_counts.pivot(index='School', columns='geographic US location', values='count').fillna(0)\n",
    "region_proportions = region_pivot.div(region_pivot.sum(axis=1), axis=0).reset_index()\n",
    "\n",
    "# ========================================================\n",
    "# 2. Specialty-Based Scores Calculation\n",
    "# ========================================================\n",
    "\n",
    "specialties = combined_df['Specialty'].unique()\n",
    "all_specialty_results = []\n",
    "for specialty in specialties:\n",
    "    def compute_scores(x):\n",
    "        if (x['Specialty'] == specialty).any():\n",
    "            prop = (x['Specialty'] == specialty).mean()\n",
    "            med = x.loc[x['Specialty'] == specialty, 'Rank'].median()\n",
    "        else:\n",
    "            prop = np.nan\n",
    "            med = np.nan\n",
    "        return pd.Series({'proportion': prop, 'median_rank': med})\n",
    "    \n",
    "    specialty_prop = combined_df.groupby('SourceFile').apply(compute_scores).reset_index()\n",
    "    specialty_prop['School'] = specialty_prop['SourceFile'].apply(lambda x: x.split('_')[0])\n",
    "    \n",
    "    # Leave NaN for schools without the specialty.\n",
    "    specialty_prop['Normalized Proportion'] = stats.zscore(specialty_prop['proportion'], nan_policy='omit')\n",
    "    specialty_prop['Normalized Median Rank'] = stats.zscore(specialty_prop['median_rank'], nan_policy='omit')\n",
    "    specialty_prop['Specialty'] = specialty\n",
    "    all_specialty_results.append(specialty_prop)\n",
    "\n",
    "all_specialties_df = pd.concat(all_specialty_results, ignore_index=True)\n",
    "\n",
    "competitive_specialties = [\"Dermatology\", \"General Surgery\", \"Neurological Surgery\",\n",
    "                           \"Orthopaedic Surgery\", \"Plastic Surgery\", \"Otolaryngology\",\n",
    "                           \"Vascular Surgery\", \"Thoracic Surgery\"]\n",
    "all_specialties_df['Competitiveness'] = all_specialties_df['Specialty'].apply(\n",
    "    lambda x: 1 if x in competitive_specialties else 0\n",
    ")\n",
    "\n",
    "# ========================================================\n",
    "# 3. Interactive Controls Setup\n",
    "# ========================================================\n",
    "\n",
    "# Create dropdowns for highlighting three schools.\n",
    "school_list = sorted(combined_df['School'].unique())\n",
    "school_options = [(\"None\", None)] + [(s, s) for s in school_list]\n",
    "\n",
    "highlight_school1 = widgets.Dropdown(options=school_options, \n",
    "                                       description=\"Highlight School 1:\",\n",
    "                                       layout=widgets.Layout(width='300px'),\n",
    "                                       style={'description_width': '150px'})\n",
    "highlight_school2 = widgets.Dropdown(options=school_options, \n",
    "                                       description=\"Highlight School 2:\",\n",
    "                                       layout=widgets.Layout(width='300px'),\n",
    "                                       style={'description_width': '150px'})\n",
    "highlight_school3 = widgets.Dropdown(options=school_options, \n",
    "                                       description=\"Highlight School 3:\",\n",
    "                                       layout=widgets.Layout(width='300px'),\n",
    "                                       style={'description_width': '150px'})\n",
    "\n",
    "# Adjust specialty checkbox list.\n",
    "specialties_sorted = sorted(all_specialties_df['Specialty'].dropna().astype(str).unique())\n",
    "specialty_checkboxes = [widgets.Checkbox(value=False, description=s) for s in specialties_sorted]\n",
    "specialty_grid = widgets.GridBox(children=specialty_checkboxes,\n",
    "                                 layout=widgets.Layout(\n",
    "                                     grid_template_columns=\"repeat(4, 200px)\",\n",
    "                                     grid_gap=\"10px 10px\"))\n",
    "\n",
    "# Adjust the quality slider style.\n",
    "w_slider = widgets.FloatSlider(value=0.25, min=0, max=1, step=0.01,\n",
    "                               description='Rank Weight',\n",
    "                               continuous_update=False,\n",
    "                               layout=widgets.Layout(width='400px'),\n",
    "                               style={'description_width': '150px'})\n",
    "\n",
    "quality_section = widgets.VBox([\n",
    "    widgets.HTML(\"<h3>Residency Quality Metric</h3>\"),\n",
    "    specialty_grid,\n",
    "    w_slider\n",
    "])\n",
    "\n",
    "regions = ['New England', 'Middle Atlantic', 'South Atlantic', 'East North Central', \n",
    "           'East South Central', 'West North Central', 'West South Central', \n",
    "           'Mountain West', 'Pacific West']\n",
    "default_region_weights = {r: 0.5 for r in regions}\n",
    "region_sliders = {r: widgets.FloatSlider(value=default_region_weights[r],\n",
    "                                           min=0, max=1, step=0.01,\n",
    "                                           description=r,\n",
    "                                           continuous_update=False,\n",
    "                                           layout=widgets.Layout(width='350px'),\n",
    "                                           style={'description_width': '150px'})\n",
    "                  for r in regions}\n",
    "region_slider_widgets = widgets.GridBox(children=list(region_sliders.values()),\n",
    "                                        layout=widgets.Layout(\n",
    "                                            grid_template_columns=\"repeat(3, 350px)\",\n",
    "                                            grid_gap=\"10px 10px\"))\n",
    "geo_importance_slider = widgets.FloatSlider(value=0.1, min=0, max=1, step=0.01,\n",
    "                                             description='Geo Importance',\n",
    "                                             continuous_update=False,\n",
    "                                             layout=widgets.Layout(width='400px'),\n",
    "                                             style={'description_width': '150px'})\n",
    "# Create a reset button.\n",
    "reset_button = widgets.Button(\n",
    "    description=\"Reset Sliders\",\n",
    "    button_style='info',\n",
    "    layout=widgets.Layout(width='100px')\n",
    ")\n",
    "\n",
    "# Define the function to reset sliders.\n",
    "def reset_sliders(b):\n",
    "    # Reset the quality slider.\n",
    "    w_slider.value = 0.25\n",
    "    # Reset the geo importance slider.\n",
    "    geo_importance_slider.value = 0.1\n",
    "    # Reset each region slider.\n",
    "    for r, slider in region_sliders.items():\n",
    "        slider.value = default_region_weights[r]\n",
    "    # Update the plot.\n",
    "    update_plot()\n",
    "\n",
    "# Attach the reset function to the button.\n",
    "reset_button.on_click(reset_sliders)\n",
    "\n",
    "geo_section = widgets.VBox([\n",
    "    widgets.HTML(\"<h3>Geographic Preference</h3>\"),\n",
    "    region_slider_widgets,\n",
    "    geo_importance_slider,\n",
    "    reset_button\n",
    "])\n",
    "\n",
    "# Add the highlight dropdowns alongside other controls.\n",
    "controls = widgets.VBox([quality_section, geo_section, \n",
    "                         widgets.HBox([highlight_school1, highlight_school2, highlight_school3])])\n",
    "\n",
    "# ========================================================\n",
    "# 4. Update Plot Function (Two-Panel Figure)\n",
    "# ========================================================\n",
    "\n",
    "state_to_region = {\n",
    "    'CT':'New England','ME':'New England','MA':'New England','NH':'New England','RI':'New England','VT':'New England',\n",
    "    'NJ':'Middle Atlantic','NY':'Middle Atlantic','PA':'Middle Atlantic',\n",
    "    'DE':'South Atlantic','DC':'South Atlantic','MD':'South Atlantic','VA':'South Atlantic','WV':'South Atlantic','NC':'South Atlantic','SC':'South Atlantic','GA':'South Atlantic','FL':'South Atlantic',\n",
    "    'IN':'East North Central','IL':'East North Central','MI':'East North Central','OH':'East North Central','WI':'East North Central',\n",
    "    'KY':'East South Central','TN':'East South Central','MS':'East South Central','AL':'East South Central',\n",
    "    'ND':'West North Central','SD':'West North Central','NE':'West North Central','KS':'West North Central','MN':'West North Central','IA':'West North Central','MO':'West North Central',\n",
    "    'OK':'West South Central','TX':'West South Central','AR':'West South Central','LA':'West South Central',\n",
    "    'ID':'Mountain West','MT':'Mountain West','WY':'Mountain West','NV':'Mountain West','UT':'Mountain West','CO':'Mountain West','NM':'Mountain West','AZ':'Mountain West',\n",
    "    'AK':'Pacific West','CA':'Pacific West','HI':'Pacific West','OR':'Pacific West','WA':'Pacific West'\n",
    "}\n",
    "\n",
    "combined_df.to_csv('all_specialties_withRank.csv', index=False)\n",
    "\n",
    "def update_plot(change=None):\n",
    "    clear_output(wait=True)\n",
    "    display(controls)\n",
    "    \n",
    "    # --- Compute Quality Component ---\n",
    "    selected_specialties = [cb.description for cb in specialty_checkboxes if cb.value]\n",
    "    all_schools = pd.DataFrame({'School': combined_df['School'].unique()})\n",
    "    \n",
    "    if selected_specialties:\n",
    "        # Create a grid of every school and each selected specialty.\n",
    "        specialty_grid = all_schools.merge(pd.DataFrame({'Specialty': selected_specialties}), how='cross')\n",
    "        \n",
    "        # Filter the computed specialty data for the selected specialties.\n",
    "        df = all_specialties_df[all_specialties_df['Specialty'].isin(selected_specialties)].copy()\n",
    "        w = w_slider.value\n",
    "        df['Score'] = ((1 - w) * df['Normalized Proportion'] - w * df['Normalized Median Rank'])\n",
    "        \n",
    "        # Merge the grid with computed scores so every school-specialty pair exists.\n",
    "        df_full = specialty_grid.merge(df[['School', 'Specialty', 'Score']], on=['School', 'Specialty'], how='left')\n",
    "        \n",
    "        # Sum scores across specialties for each school; if all are NaN, keep as NaN.\n",
    "        def sum_with_all_nan(series):\n",
    "            return np.nan if series.isna().all() else series.sum(skipna=True)\n",
    "        \n",
    "        school_scores = df_full.groupby('School')['Score'].apply(sum_with_all_nan).reset_index(name='Total_Composite_Score')\n",
    "        \n",
    "        # Force schools with no rank information to have Total_Composite_Score = -1.\n",
    "        no_rank_mask = school_scores['Total_Composite_Score'].isna()\n",
    "        school_scores.loc[no_rank_mask, 'Total_Composite_Score'] = -1\n",
    "        \n",
    "        # For schools with valid data, compute normalized quality.\n",
    "        valid_mask = school_scores['Total_Composite_Score'] != -1\n",
    "        if valid_mask.sum() > 0:\n",
    "            valid_scores = school_scores.loc[valid_mask, 'Total_Composite_Score']\n",
    "            norm_valid = stats.zscore(valid_scores)\n",
    "            school_scores.loc[valid_mask, 'Normalized_Total_Composite_Score'] = norm_valid\n",
    "        else:\n",
    "            school_scores['Normalized_Total_Composite_Score'] = school_scores['Total_Composite_Score']\n",
    "    else:\n",
    "        school_scores = all_schools.copy()\n",
    "        school_scores['Total_Composite_Score'] = -1\n",
    "        school_scores['Normalized_Total_Composite_Score'] = -1\n",
    "    \n",
    "    # --- Merge Regional Proportions ---\n",
    "    school_scores = pd.merge(school_scores, region_proportions, on='School', how='left')\n",
    "    \n",
    "    # --- Compute Geographic Component ---\n",
    "    raw_slider_sum = sum(region_sliders[r].value for r in regions)\n",
    "    if raw_slider_sum == 0:\n",
    "        normalized_region_weights = {r: 0 for r in regions}\n",
    "    else:\n",
    "        normalized_region_weights = {r: region_sliders[r].value / raw_slider_sum for r in regions}\n",
    "    \n",
    "    def compute_region_score(row):\n",
    "        score = 0\n",
    "        for r in regions:\n",
    "            score += row.get(r, 0) * normalized_region_weights[r]\n",
    "        return score\n",
    "    school_scores['raw_region_score'] = school_scores.apply(compute_region_score, axis=1)\n",
    "    mean_region_score = school_scores['raw_region_score'].mean()\n",
    "    school_scores['adjusted_region_score'] = school_scores['raw_region_score'] - mean_region_score\n",
    "    \n",
    "    # --- Allocation Based on Geo Importance ---\n",
    "    geo_importance = geo_importance_slider.value\n",
    "    quality_alloc = (1 - geo_importance) * 10\n",
    "    region_alloc  = geo_importance * 10\n",
    "    \n",
    "    # Scale quality component for valid schools.\n",
    "    valid_mask = school_scores['Total_Composite_Score'] != -1\n",
    "    if valid_mask.sum() > 0:\n",
    "        q_min = school_scores.loc[valid_mask, 'Normalized_Total_Composite_Score'].min()\n",
    "        q_max = school_scores.loc[valid_mask, 'Normalized_Total_Composite_Score'].max()\n",
    "        if q_max != q_min:\n",
    "            school_scores.loc[valid_mask, 'Scaled_Quality'] = (school_scores.loc[valid_mask, 'Normalized_Total_Composite_Score'] - q_min) / (q_max - q_min) * quality_alloc\n",
    "        else:\n",
    "            school_scores.loc[valid_mask, 'Scaled_Quality'] = quality_alloc\n",
    "    school_scores.loc[~valid_mask, 'Scaled_Quality'] = -1\n",
    "    \n",
    "    # Scale geographic component.\n",
    "    r_min = school_scores['adjusted_region_score'].min()\n",
    "    r_max = school_scores['adjusted_region_score'].max()\n",
    "    if r_max != r_min:\n",
    "        school_scores['Scaled_Region'] = (school_scores['adjusted_region_score'] - r_min) / (r_max - r_min) * region_alloc\n",
    "    else:\n",
    "        school_scores['Scaled_Region'] = region_alloc\n",
    "    \n",
    "    # --- Compute Final Score ---\n",
    "    school_scores['Final_Score'] = school_scores['Scaled_Quality'] + school_scores['Scaled_Region']\n",
    "    school_scores.loc[~valid_mask, 'Final_Score'] = -1\n",
    "    \n",
    "    # Rescale valid scores so that the minimum valid score is 0 and the maximum is 10.\n",
    "    valid_mask = school_scores['Final_Score'] != -1\n",
    "    if valid_mask.sum() > 0:\n",
    "        valid_scores = school_scores.loc[valid_mask, 'Final_Score']\n",
    "        min_valid = valid_scores.min()\n",
    "        max_valid = valid_scores.max()\n",
    "        if max_valid != min_valid:\n",
    "            school_scores.loc[valid_mask, 'Final_Score'] = ((valid_scores - min_valid) / (max_valid - min_valid)) * 10\n",
    "        else:\n",
    "            school_scores.loc[valid_mask, 'Final_Score'] = 10\n",
    "    \n",
    "    # Force the Final_Score column to be numeric before sorting.\n",
    "    school_scores['Final_Score'] = pd.to_numeric(school_scores['Final_Score'], errors='coerce')\n",
    "    school_scores = school_scores.sort_values(by='Final_Score', ascending=True)\n",
    "    \n",
    "    # --- Build Lollipop Plot (Left Panel) ---\n",
    "    # Get the highlighted schools from the dropdowns.\n",
    "    hl1 = highlight_school1.value\n",
    "    hl2 = highlight_school2.value\n",
    "    hl3 = highlight_school3.value\n",
    "    \n",
    "    lollipop_traces = []\n",
    "    for _, row in school_scores.iterrows():\n",
    "        # Set defaults.\n",
    "        line_color = 'lightgray'\n",
    "        marker_color = 'gray'\n",
    "        marker_size = 8\n",
    "        \n",
    "        # Only change color if the dropdown is not None.\n",
    "        if hl1 is not None and row['School'] == hl1:\n",
    "            marker_color = 'goldenrod'\n",
    "            marker_size = 12\n",
    "        elif hl2 is not None and row['School'] == hl2:\n",
    "            marker_color = 'purple'\n",
    "            marker_size = 12\n",
    "        elif hl3 is not None and row['School'] == hl3:\n",
    "            marker_color = 'teal'\n",
    "            marker_size = 12\n",
    "            \n",
    "        lollipop_traces.append(go.Scatter(\n",
    "            x=[0, row['Final_Score']],\n",
    "            y=[row['School'], row['School']],\n",
    "            mode='lines',\n",
    "            line=dict(color=line_color, width=2),\n",
    "            showlegend=False,\n",
    "            hoverinfo='skip'\n",
    "        ))\n",
    "    marker_trace = go.Scatter(\n",
    "        x=school_scores['Final_Score'],\n",
    "        y=school_scores['School'],\n",
    "        mode='markers+text',\n",
    "        text=[f\"{score:.2f}\" for score in school_scores['Final_Score']],\n",
    "        textposition='middle right',\n",
    "        marker=dict(color=[\n",
    "            'goldenrod' if hl1 is not None and school == hl1 \n",
    "            else 'purple' if hl2 is not None and school == hl2 \n",
    "            else 'teal' if hl3 is not None and school == hl3 \n",
    "            else 'gray'\n",
    "            for school in school_scores['School']\n",
    "        ], size=[\n",
    "            12 if (hl1 is not None and school == hl1) or \n",
    "                  (hl2 is not None and school == hl2) or \n",
    "                  (hl3 is not None and school == hl3) else 8 \n",
    "            for school in school_scores['School']\n",
    "        ]),\n",
    "        name='Final Score'\n",
    "    )\n",
    "    \n",
    "    # --- Build US Map (Right Panel) ---\n",
    "    state_list = list(state_to_region.keys())\n",
    "    map_weights = [normalized_region_weights.get(state_to_region[st], 0) for st in state_list]\n",
    "    state_df = pd.DataFrame({'state': state_list, 'region_weight': map_weights})\n",
    "    \n",
    "    map_trace = go.Choropleth(\n",
    "        locations=state_df['state'],\n",
    "        z=state_df['region_weight'],\n",
    "        locationmode=\"USA-states\",\n",
    "        colorscale=\"Greens\",\n",
    "        zmin=0,\n",
    "        zmax=1,\n",
    "        colorbar=dict(title=\"Region Weight\")\n",
    "    )\n",
    "    \n",
    "    combined_fig = make_subplots(\n",
    "        rows=1, cols=2, \n",
    "        column_widths=[0.5, 0.5],\n",
    "        specs=[[{\"type\": \"xy\"}, {\"type\": \"geo\"}]],\n",
    "        subplot_titles=(\"School Composite Scores\", \"US Geographic Preference\")\n",
    "    )\n",
    "    \n",
    "    for trace in lollipop_traces:\n",
    "        combined_fig.add_trace(trace, row=1, col=1)\n",
    "    combined_fig.add_trace(marker_trace, row=1, col=1)\n",
    "    combined_fig.add_trace(map_trace, row=1, col=2)\n",
    "    \n",
    "    combined_fig.update_geos(scope=\"usa\", projection_type=\"albers usa\", row=1, col=2)\n",
    "    combined_fig.update_layout(\n",
    "        height=min(1200, 50*len(school_scores)),  # Limit the height for readability.\n",
    "        width=1500, template=\"plotly_white\",\n",
    "        title_text=\"Composite Scores and Geographic Preferences\"\n",
    "    )\n",
    "    combined_fig.update_xaxes(title_text=\"Final Score (0-10)\", row=1, col=1)\n",
    "    combined_fig.update_yaxes(title_text=\"School\", row=1, col=1, tickfont=dict(size=10))\n",
    "    \n",
    "    combined_fig.show()\n",
    "\n",
    "# ========================================================\n",
    "# 5. Attach Observers & Display Controls\n",
    "# ========================================================\n",
    "\n",
    "for cb in specialty_checkboxes:\n",
    "    cb.observe(update_plot, 'value')\n",
    "w_slider.observe(update_plot, 'value')\n",
    "for slider in region_sliders.values():\n",
    "    slider.observe(update_plot, 'value')\n",
    "geo_importance_slider.observe(update_plot, 'value')\n",
    "highlight_school1.observe(update_plot, 'value')\n",
    "highlight_school2.observe(update_plot, 'value')\n",
    "highlight_school3.observe(update_plot, 'value')\n",
    "\n",
    "display(controls)\n",
    "update_plot()"
   ]
  },
  {
   "cell_type": "code",
   "execution_count": null,
   "metadata": {},
   "outputs": [],
   "source": []
  }
 ],
 "metadata": {
  "kernelspec": {
   "display_name": "base",
   "language": "python",
   "name": "python3"
  },
  "language_info": {
   "codemirror_mode": {
    "name": "ipython",
    "version": 3
   },
   "file_extension": ".py",
   "mimetype": "text/x-python",
   "name": "python",
   "nbconvert_exporter": "python",
   "pygments_lexer": "ipython3",
   "version": "3.11.5"
  }
 },
 "nbformat": 4,
 "nbformat_minor": 2
}
